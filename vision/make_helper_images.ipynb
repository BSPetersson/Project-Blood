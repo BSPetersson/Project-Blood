{
 "cells": [
  {
   "cell_type": "code",
   "execution_count": 33,
   "id": "839003fe",
   "metadata": {},
   "outputs": [],
   "source": [
    "import numpy as np\n",
    "import cv2\n",
    "import glob\n",
    "import matplotlib.pyplot as plt\n",
    "from matplotlib.pyplot import figure\n",
    "from os import listdir\n",
    "import os\n",
    "from numpy import interp\n",
    "import helper_functions"
   ]
  },
  {
   "cell_type": "code",
   "execution_count": 34,
   "id": "facba330",
   "metadata": {},
   "outputs": [],
   "source": [
    "id_ = 1\n",
    "\n",
    "base_path = '/Volumes/T7/data/830nm/{}/'.format(id_)\n",
    "helper_path = '/Volumes/T7/data/830nm/{}_helpers/'.format(id_)\n",
    "os.makedirs(helper_path, exist_ok=True)\n",
    "\n",
    "images, image_names = helper_functions.get_images(base_path, \"73320\")"
   ]
  },
  {
   "cell_type": "code",
   "execution_count": 35,
   "id": "035bf003",
   "metadata": {},
   "outputs": [],
   "source": [
    "gamma_images = helper_functions.gamma_mapping(images, gamma=0.05)\n",
    "background_subtracted = helper_functions.mean_filter_subtraction(gamma_images, size=(400,400))\n",
    "\n",
    "mean = helper_functions.get_mean_image(gamma_images)\n",
    "mean_subtracted = helper_functions.median_subtraction(gamma_images, mean)"
   ]
  },
  {
   "cell_type": "code",
   "execution_count": 36,
   "id": "cc655367",
   "metadata": {},
   "outputs": [],
   "source": [
    "for image_name, image_raw, image_gamma, image_background_sub, image_mean_sub in zip(image_names, images, gamma_images, background_subtracted, mean_subtracted):\n",
    "    image_name = image_name.split('.')[0]\n",
    "    cv2.imwrite(helper_path + \"{}_raw.png\".format(image_name), helper_functions.transform_for_show(image_raw))\n",
    "    cv2.imwrite(helper_path + \"{}_gamma.png\".format(image_name), helper_functions.transform_for_show(image_gamma))\n",
    "    cv2.imwrite(helper_path + \"{}_background_sub.png\".format(image_name), helper_functions.transform_for_show(image_background_sub))\n",
    "    cv2.imwrite(helper_path + \"{}_mean_sub.png\".format(image_name), helper_functions.transform_for_show(image_mean_sub))"
   ]
  },
  {
   "cell_type": "code",
   "execution_count": null,
   "id": "20692a33",
   "metadata": {},
   "outputs": [],
   "source": []
  },
  {
   "cell_type": "code",
   "execution_count": null,
   "id": "3d3b9765",
   "metadata": {},
   "outputs": [],
   "source": []
  },
  {
   "cell_type": "code",
   "execution_count": null,
   "id": "6bb1d542",
   "metadata": {},
   "outputs": [],
   "source": []
  }
 ],
 "metadata": {
  "kernelspec": {
   "display_name": "Python 3 (ipykernel)",
   "language": "python",
   "name": "python3"
  },
  "language_info": {
   "codemirror_mode": {
    "name": "ipython",
    "version": 3
   },
   "file_extension": ".py",
   "mimetype": "text/x-python",
   "name": "python",
   "nbconvert_exporter": "python",
   "pygments_lexer": "ipython3",
   "version": "3.8.11"
  }
 },
 "nbformat": 4,
 "nbformat_minor": 5
}
