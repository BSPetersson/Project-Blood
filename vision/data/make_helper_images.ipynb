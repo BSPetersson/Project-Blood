{
 "cells": [
  {
   "cell_type": "code",
   "execution_count": 1,
   "id": "839003fe",
   "metadata": {},
   "outputs": [
    {
     "ename": "ModuleNotFoundError",
     "evalue": "No module named 'helper_functions'",
     "output_type": "error",
     "traceback": [
      "\u001b[0;31m---------------------------------------------------------------------------\u001b[0m",
      "\u001b[0;31mModuleNotFoundError\u001b[0m                       Traceback (most recent call last)",
      "\u001b[0;32m/var/folders/v6/b497thvs7zj8ph5s5ygb1__40000gn/T/ipykernel_71441/1894939216.py\u001b[0m in \u001b[0;36m<module>\u001b[0;34m\u001b[0m\n\u001b[1;32m      7\u001b[0m \u001b[0;32mimport\u001b[0m \u001b[0mos\u001b[0m\u001b[0;34m\u001b[0m\u001b[0;34m\u001b[0m\u001b[0m\n\u001b[1;32m      8\u001b[0m \u001b[0;32mfrom\u001b[0m \u001b[0mnumpy\u001b[0m \u001b[0;32mimport\u001b[0m \u001b[0minterp\u001b[0m\u001b[0;34m\u001b[0m\u001b[0;34m\u001b[0m\u001b[0m\n\u001b[0;32m----> 9\u001b[0;31m \u001b[0;32mimport\u001b[0m \u001b[0mhelper_functions\u001b[0m\u001b[0;34m\u001b[0m\u001b[0;34m\u001b[0m\u001b[0m\n\u001b[0m",
      "\u001b[0;31mModuleNotFoundError\u001b[0m: No module named 'helper_functions'"
     ]
    }
   ],
   "source": [
    "import numpy as np\n",
    "import cv2\n",
    "import glob\n",
    "import matplotlib.pyplot as plt\n",
    "from matplotlib.pyplot import figure\n",
    "from os import listdir\n",
    "import os\n",
    "from numpy import interp\n",
    "import helper_functions"
   ]
  },
  {
   "cell_type": "code",
   "execution_count": null,
   "id": "facba330",
   "metadata": {},
   "outputs": [],
   "source": [
    "id_ = 1\n",
    "\n",
    "base_path = '/Volumes/T7/data/830nm/{}'.format(id_)\n",
    "helper_path = '/Volumes/T7/data/830nm/{}_helpers'.format(id_)\n",
    "os.makedirs(helper_path, exist_ok=True)\n",
    "\n",
    "shutter_speeds = []\n",
    "\n",
    "def split(path):\n",
    "    s = path.replace('.', '_')\n",
    "    s = s.split('_')\n",
    "    return s\n",
    "\n",
    "image_names = listdir(base_path)\n",
    "splits = list(map(split, image_names))\n",
    "\n",
    "shutter_speeds = np.unique(np.array(splits)[:,2]).astype(int)\n",
    "shutter_speeds = np.sort(shutter_speeds).astype(str)"
   ]
  },
  {
   "cell_type": "code",
   "execution_count": null,
   "id": "035bf003",
   "metadata": {},
   "outputs": [],
   "source": []
  },
  {
   "cell_type": "code",
   "execution_count": null,
   "id": "cc655367",
   "metadata": {},
   "outputs": [],
   "source": [
    "figure(figsize=(10, 10), dpi=80)\n",
    "plt.imshow(median_images[0], cmap='gray')"
   ]
  },
  {
   "cell_type": "code",
   "execution_count": null,
   "id": "20692a33",
   "metadata": {},
   "outputs": [],
   "source": []
  },
  {
   "cell_type": "code",
   "execution_count": null,
   "id": "3d3b9765",
   "metadata": {},
   "outputs": [],
   "source": []
  },
  {
   "cell_type": "code",
   "execution_count": null,
   "id": "e1eb86ce",
   "metadata": {},
   "outputs": [],
   "source": []
  }
 ],
 "metadata": {
  "kernelspec": {
   "display_name": "Python 3 (ipykernel)",
   "language": "python",
   "name": "python3"
  },
  "language_info": {
   "codemirror_mode": {
    "name": "ipython",
    "version": 3
   },
   "file_extension": ".py",
   "mimetype": "text/x-python",
   "name": "python",
   "nbconvert_exporter": "python",
   "pygments_lexer": "ipython3",
   "version": "3.8.11"
  }
 },
 "nbformat": 4,
 "nbformat_minor": 5
}
